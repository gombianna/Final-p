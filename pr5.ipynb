{
    "cells": [
        {
            "metadata": {},
            "cell_type": "markdown",
            "source": "<center>\n    <img src=\"https://gitlab.com/ibm/skills-network/courses/placeholder101/-/raw/master/labs/module%201/images/IDSNlogo.png\"  width=\"300\" alt=\"cognitiveclass.ai logo\"  />\n</center>\n\n<h1 align=center><font size = 5>Assignment: SQL Notebook for Peer Assignment</font></h1>\n\nEstimated time needed: **60** minutes.\n\n## Introduction\n\nUsing this Python notebook you will:\n\n1.  Understand the Spacex DataSet\n2.  Load the dataset  into the corresponding table in a Db2 database\n3.  Execute SQL queries to answer assignment questions\n"
        },
        {
            "metadata": {},
            "cell_type": "markdown",
            "source": "## Overview of the DataSet\n\nSpaceX has gained worldwide attention for a series of historic milestones.\n\nIt is the only private company ever to return a spacecraft from low-earth orbit, which it first accomplished in December 2010.\nSpaceX advertises Falcon 9 rocket launches on its website with a cost of 62 million dollars wheras other providers cost upward of 165 million dollars each, much of the savings is because Space X can reuse the first stage.\n\nTherefore if we can determine if the first stage will land, we can determine the cost of a launch.\n\nThis information can be used if an alternate company wants to bid against SpaceX for a rocket launch.\n\nThis dataset includes a record for each payload carried during a SpaceX mission into outer space.\n"
        },
        {
            "metadata": {},
            "cell_type": "markdown",
            "source": "### Download the datasets\n\nThis assignment requires you to load the spacex dataset.\n\nIn many cases the dataset to be analyzed is available as a .CSV (comma separated values) file, perhaps on the internet. Click on the link below to download and save the dataset (.CSV file):\n\n<a href=\"https://cf-courses-data.s3.us.cloud-object-storage.appdomain.cloud/IBM-DS0321EN-SkillsNetwork/labs/module_2/data/Spacex.csv?utm_medium=Exinfluencer&utm_source=Exinfluencer&utm_content=000026UJ&utm_term=10006555&utm_id=NA-SkillsNetwork-Channel-SkillsNetworkCoursesIBMDS0321ENSkillsNetwork26802033-2021-01-01\" target=\"_blank\">Spacex DataSet</a>\n"
        },
        {
            "metadata": {},
            "cell_type": "markdown",
            "source": "### Store the dataset in database table\n\n**it is highly recommended to manually load the table using the database console LOAD tool in DB2**.\n\n<img src = \"https://cf-courses-data.s3.us.cloud-object-storage.appdomain.cloud/IBM-DS0321EN-SkillsNetwork/labs/module_2/images/spacexload.png\">\n\nNow open the Db2 console, open the LOAD tool, Select / Drag the .CSV file for the  dataset, Next create a New Table, and then follow the steps on-screen instructions to load the data. Name the new table as follows:\n\n**SPACEXDATASET**\n\n**Follow these steps while using old DB2 UI which is having Open Console Screen**\n\n**Note:While loading Spacex dataset, ensure that detect datatypes is disabled. Later click on the pencil icon(edit option).**\n\n1.  Change the Date Format by manually typing DD-MM-YYYY and timestamp format as DD-MM-YYYY HH\\:MM:SS.\n\n    Here you should place the cursor at Date field and manually type as DD-MM-YYYY.\n\n2.  Change the PAYLOAD_MASS\\_\\_KG\\_  datatype  to INTEGER.\n\n<img src = \"https://cf-courses-data.s3.us.cloud-object-storage.appdomain.cloud/IBM-DS0321EN-SkillsNetwork/labs/module_2/images/spacexload2.png\">\n"
        },
        {
            "metadata": {},
            "cell_type": "markdown",
            "source": "**Changes to be considered when having DB2 instance with the new UI having Go to UI screen**\n\n*   Refer to this insruction in this <a href=\"https://cf-courses-data.s3.us.cloud-object-storage.appdomain.cloud/IBMDeveloperSkillsNetwork-DB0201EN-SkillsNetwork/labs/Labs_Coursera_V5/labs/Lab%20-%20Sign%20up%20for%20IBM%20Cloud%20-%20Create%20Db2%20service%20instance%20-%20Get%20started%20with%20the%20Db2%20console/instructional-labs.md.html?utm_medium=Exinfluencer&utm_source=Exinfluencer&utm_content=000026UJ&utm_term=10006555&utm_id=NA-SkillsNetwork-Channel-SkillsNetworkCoursesIBMDS0321ENSkillsNetwork26802033-2021-01-01\">link</a> for viewing  the new  Go to UI screen.\n\n*   Later click on **Data link(below SQL)**  in the Go to UI screen  and click on **Load Data** tab.\n\n*   Later browse for the downloaded spacex file.\n\n<img src=\"https://cf-courses-data.s3.us.cloud-object-storage.appdomain.cloud/IBM-DS0321EN-SkillsNetwork/labs/module_2/images/browsefile.png\" width=\"800\"/>\n\n*   Once done select the schema andload the file.\n\n <img src=\"https://cf-courses-data.s3.us.cloud-object-storage.appdomain.cloud/IBM-DS0321EN-SkillsNetwork/labs/module_2/images/spacexload3.png\" width=\"800\"/>\n"
        },
        {
            "metadata": {},
            "cell_type": "code",
            "source": "!pip install sqlalchemy==1.3.9\n!pip install ibm_db_sa\n!pip install ipython-sql",
            "execution_count": 4,
            "outputs": [
                {
                    "output_type": "stream",
                    "text": "Requirement already satisfied: sqlalchemy==1.3.9 in /opt/conda/envs/Python-3.9/lib/python3.9/site-packages (1.3.9)\nRequirement already satisfied: ibm_db_sa in /opt/conda/envs/Python-3.9/lib/python3.9/site-packages (0.3.7)\nRequirement already satisfied: sqlalchemy>=0.7.3 in /opt/conda/envs/Python-3.9/lib/python3.9/site-packages (from ibm_db_sa) (1.3.9)\nRequirement already satisfied: ibm-db>=2.0.0 in /opt/conda/envs/Python-3.9/lib/python3.9/site-packages (from ibm_db_sa) (3.1.0)\nRequirement already satisfied: ipython-sql in /opt/conda/envs/Python-3.9/lib/python3.9/site-packages (0.4.0)\nRequirement already satisfied: prettytable<1 in /opt/conda/envs/Python-3.9/lib/python3.9/site-packages (from ipython-sql) (0.7.2)\nRequirement already satisfied: ipython-genutils>=0.1.0 in /opt/conda/envs/Python-3.9/lib/python3.9/site-packages (from ipython-sql) (0.2.0)\nRequirement already satisfied: ipython>=1.0 in /opt/conda/envs/Python-3.9/lib/python3.9/site-packages (from ipython-sql) (7.29.0)\nRequirement already satisfied: sqlalchemy>=0.6.7 in /opt/conda/envs/Python-3.9/lib/python3.9/site-packages (from ipython-sql) (1.3.9)\nRequirement already satisfied: six in /opt/conda/envs/Python-3.9/lib/python3.9/site-packages (from ipython-sql) (1.15.0)\nRequirement already satisfied: sqlparse in /opt/conda/envs/Python-3.9/lib/python3.9/site-packages (from ipython-sql) (0.4.2)\nRequirement already satisfied: jedi>=0.16 in /opt/conda/envs/Python-3.9/lib/python3.9/site-packages (from ipython>=1.0->ipython-sql) (0.18.0)\nRequirement already satisfied: backcall in /opt/conda/envs/Python-3.9/lib/python3.9/site-packages (from ipython>=1.0->ipython-sql) (0.2.0)\nRequirement already satisfied: setuptools>=18.5 in /opt/conda/envs/Python-3.9/lib/python3.9/site-packages (from ipython>=1.0->ipython-sql) (58.0.4)\nRequirement already satisfied: pickleshare in /opt/conda/envs/Python-3.9/lib/python3.9/site-packages (from ipython>=1.0->ipython-sql) (0.7.5)\nRequirement already satisfied: pexpect>4.3 in /opt/conda/envs/Python-3.9/lib/python3.9/site-packages (from ipython>=1.0->ipython-sql) (4.8.0)\nRequirement already satisfied: decorator in /opt/conda/envs/Python-3.9/lib/python3.9/site-packages (from ipython>=1.0->ipython-sql) (5.1.0)\nRequirement already satisfied: prompt-toolkit!=3.0.0,!=3.0.1,<3.1.0,>=2.0.0 in /opt/conda/envs/Python-3.9/lib/python3.9/site-packages (from ipython>=1.0->ipython-sql) (3.0.20)\nRequirement already satisfied: traitlets>=4.2 in /opt/conda/envs/Python-3.9/lib/python3.9/site-packages (from ipython>=1.0->ipython-sql) (5.1.1)\nRequirement already satisfied: pygments in /opt/conda/envs/Python-3.9/lib/python3.9/site-packages (from ipython>=1.0->ipython-sql) (2.10.0)\nRequirement already satisfied: matplotlib-inline in /opt/conda/envs/Python-3.9/lib/python3.9/site-packages (from ipython>=1.0->ipython-sql) (0.1.2)\nRequirement already satisfied: parso<0.9.0,>=0.8.0 in /opt/conda/envs/Python-3.9/lib/python3.9/site-packages (from jedi>=0.16->ipython>=1.0->ipython-sql) (0.8.3)\nRequirement already satisfied: ptyprocess>=0.5 in /opt/conda/envs/Python-3.9/lib/python3.9/site-packages (from pexpect>4.3->ipython>=1.0->ipython-sql) (0.7.0)\nRequirement already satisfied: wcwidth in /opt/conda/envs/Python-3.9/lib/python3.9/site-packages (from prompt-toolkit!=3.0.0,!=3.0.1,<3.1.0,>=2.0.0->ipython>=1.0->ipython-sql) (0.2.5)\n",
                    "name": "stdout"
                }
            ]
        },
        {
            "metadata": {},
            "cell_type": "markdown",
            "source": "### Connect to the database\n\nLet us first load the SQL extension and establish a connection with the database\n"
        },
        {
            "metadata": {},
            "cell_type": "code",
            "source": "%reload_ext sql",
            "execution_count": 5,
            "outputs": []
        },
        {
            "metadata": {},
            "cell_type": "markdown",
            "source": "**DB2 magic in case of old UI service credentials.**\n\nIn the next cell enter your db2 connection string. Recall you created Service Credentials for your Db2 instance before. From the **uri** field of your Db2 service credentials copy everything after db2:// (except the double quote at the end) and paste it in the cell below after ibm_db_sa://\n\n<img src =\"https://cf-courses-data.s3.us.cloud-object-storage.appdomain.cloud/IBMDeveloperSkillsNetwork-DB0201EN-SkillsNetwork/labs/FinalModule_edX/images/URI.jpg\">\n\nin the following format\n\n**%sql ibm_db_sa://my-username:my-password\\@my-hostname:my-port/my-db-name**\n\n**DB2 magic in case of new UI service credentials.**\n\n<img src =\"https://cf-courses-data.s3.us.cloud-object-storage.appdomain.cloud/IBM-DS0321EN-SkillsNetwork/labs/module_2/images/servicecredentials.png\" width=600>  \n\n*   Use the following format.\n\n*   Add security=SSL at the end\n\n**%sql ibm_db_sa://my-username:my-password\\@my-hostname:my-port/my-db-name?security=SSL**\n"
        },
        {
            "metadata": {},
            "cell_type": "code",
            "source": "",
            "execution_count": null,
            "outputs": []
        },
        {
            "metadata": {},
            "cell_type": "code",
            "source": "",
            "execution_count": null,
            "outputs": []
        },
        {
            "metadata": {},
            "cell_type": "code",
            "source": "%sql ibm_db_sa://tjt44844:LKJqgU1XmqQde7TA@815fa4db-dc03-4c70-869a-a9cc13f33084.bs2io90l08kqb1od8lcg.databases.appdomain.cloud:30367/bludb?security=SSL",
            "execution_count": 6,
            "outputs": []
        },
        {
            "metadata": {},
            "cell_type": "markdown",
            "source": "## Tasks\n\nNow write and execute SQL queries to solve the assignment tasks.\n\n### Task 1\n\n##### Display the names of the unique launch sites  in the space mission\n"
        },
        {
            "metadata": {},
            "cell_type": "code",
            "source": "%sql SELECT Launch_Site from Spacex group by Launch_Site",
            "execution_count": 7,
            "outputs": [
                {
                    "output_type": "stream",
                    "text": " * ibm_db_sa://tjt44844:***@815fa4db-dc03-4c70-869a-a9cc13f33084.bs2io90l08kqb1od8lcg.databases.appdomain.cloud:30367/bludb\nDone.\n",
                    "name": "stdout"
                },
                {
                    "output_type": "execute_result",
                    "execution_count": 7,
                    "data": {
                        "text/plain": "[('CCAFS LC-40',), ('CCAFS SLC-40',), ('KSC LC-39A',), ('VAFB SLC-4E',)]",
                        "text/html": "<table>\n    <tr>\n        <th>launch_site</th>\n    </tr>\n    <tr>\n        <td>CCAFS LC-40</td>\n    </tr>\n    <tr>\n        <td>CCAFS SLC-40</td>\n    </tr>\n    <tr>\n        <td>KSC LC-39A</td>\n    </tr>\n    <tr>\n        <td>VAFB SLC-4E</td>\n    </tr>\n</table>"
                    },
                    "metadata": {}
                }
            ]
        },
        {
            "metadata": {},
            "cell_type": "markdown",
            "source": "### Task 2\n\n##### Display 5 records where launch sites begin with the string 'CCA'\n"
        },
        {
            "metadata": {},
            "cell_type": "code",
            "source": "%%sql\nselect PAYLOAD from Spacex\nwhere Launch_Site like 'CCA%'",
            "execution_count": 8,
            "outputs": [
                {
                    "output_type": "stream",
                    "text": " * ibm_db_sa://tjt44844:***@815fa4db-dc03-4c70-869a-a9cc13f33084.bs2io90l08kqb1od8lcg.databases.appdomain.cloud:30367/bludb\nDone.\n",
                    "name": "stdout"
                },
                {
                    "output_type": "execute_result",
                    "execution_count": 8,
                    "data": {
                        "text/plain": "[('Dragon Spacecraft Qualification Unit',),\n ('Dragon demo flight C1, two CubeSats, barrel of Brouere cheese',),\n ('Dragon demo flight C2',),\n ('SpaceX CRS-1',),\n ('SpaceX CRS-2',),\n ('SES-8',),\n ('Thaicom 6',),\n ('SpaceX CRS-3',),\n ('OG2 Mission 1  6 Orbcomm-OG2 satellites',),\n ('AsiaSat 8',),\n ('AsiaSat 6',),\n ('SpaceX CRS-4',),\n ('SpaceX CRS-5',),\n ('DSCOVR',),\n ('ABS-3A Eutelsat 115 West B',),\n ('SpaceX CRS-6',),\n ('Turkmen 52 / MonacoSAT',),\n ('SpaceX CRS-7',),\n ('OG2 Mission 2  11 Orbcomm-OG2 satellites',),\n ('SES-9',),\n ('SpaceX CRS-8',),\n ('JCSAT-14',),\n ('Thaicom 8',),\n ('ABS-2A Eutelsat 117 West B',),\n ('SpaceX CRS-9',),\n ('JCSAT-16',),\n ('SpaceX CRS-13',),\n ('Zuma',),\n ('GovSat-1 / SES-16',),\n ('Hispasat 30W-6  PODSat',),\n ('SpaceX CRS-14',),\n ('Transiting Exoplanet Survey Satellite (TESS)',),\n ('SES-12',),\n ('SpaceX CRS-15',),\n ('Telstar 19V',),\n ('Merah Putih',),\n ('Telstar 18V / Apstar-5C',),\n ('SpaceX CRS-16',),\n ('GPS III-01',),\n ('Nusantara Satu, Beresheet Moon lander, S5',),\n ('SpaceX CRS-17, Starlink v0.9',),\n ('Starlink v0.9, RADARSAT Constellation',),\n ('SpaceX CRS-18, AMOS-17 ',),\n ('AMOS-17, Starlink 1 v1.0 ',),\n ('Starlink 1 v1.0, SpaceX CRS-19 ',),\n ('SpaceX CRS-19, JCSat-18 / Kacific 1 ',),\n ('JCSat-18 / Kacific 1, Starlink 2 v1.0 ',),\n ('Starlink 2 v1.0, Crew Dragon in-flight abort test ',),\n ('Starlink 3 v1.0, Starlink 4 v1.0 ',),\n ('Starlink 4 v1.0, SpaceX CRS-20',),\n ('SpaceX CRS-20, Starlink 5 v1.0 ',),\n ('Starlink 7 v1.0, Starlink 8 v1.0',),\n ('Starlink 8 v1.0, SkySats-16, -17, -18, GPS III-03 ',),\n ('GPS III-03, ANASIS-II',),\n ('ANASIS-II, Starlink 9 v1.0',),\n ('Starlink 10 v1.0, SkySat-19, -20, -21, SAOCOM 1B ',),\n ('SAOCOM 1B, GNOMES 1, Tyvak-0172',),\n ('Starlink 14 v1.0, GPS III-04  ',),\n ('GPS III-04 , Crew-1',),\n ('Starlink 15 v1.0, SpaceX CRS-21',)]",
                        "text/html": "<table>\n    <tr>\n        <th>payload</th>\n    </tr>\n    <tr>\n        <td>Dragon Spacecraft Qualification Unit</td>\n    </tr>\n    <tr>\n        <td>Dragon demo flight C1, two CubeSats, barrel of Brouere cheese</td>\n    </tr>\n    <tr>\n        <td>Dragon demo flight C2</td>\n    </tr>\n    <tr>\n        <td>SpaceX CRS-1</td>\n    </tr>\n    <tr>\n        <td>SpaceX CRS-2</td>\n    </tr>\n    <tr>\n        <td>SES-8</td>\n    </tr>\n    <tr>\n        <td>Thaicom 6</td>\n    </tr>\n    <tr>\n        <td>SpaceX CRS-3</td>\n    </tr>\n    <tr>\n        <td>OG2 Mission 1  6 Orbcomm-OG2 satellites</td>\n    </tr>\n    <tr>\n        <td>AsiaSat 8</td>\n    </tr>\n    <tr>\n        <td>AsiaSat 6</td>\n    </tr>\n    <tr>\n        <td>SpaceX CRS-4</td>\n    </tr>\n    <tr>\n        <td>SpaceX CRS-5</td>\n    </tr>\n    <tr>\n        <td>DSCOVR</td>\n    </tr>\n    <tr>\n        <td>ABS-3A Eutelsat 115 West B</td>\n    </tr>\n    <tr>\n        <td>SpaceX CRS-6</td>\n    </tr>\n    <tr>\n        <td>Turkmen 52 / MonacoSAT</td>\n    </tr>\n    <tr>\n        <td>SpaceX CRS-7</td>\n    </tr>\n    <tr>\n        <td>OG2 Mission 2  11 Orbcomm-OG2 satellites</td>\n    </tr>\n    <tr>\n        <td>SES-9</td>\n    </tr>\n    <tr>\n        <td>SpaceX CRS-8</td>\n    </tr>\n    <tr>\n        <td>JCSAT-14</td>\n    </tr>\n    <tr>\n        <td>Thaicom 8</td>\n    </tr>\n    <tr>\n        <td>ABS-2A Eutelsat 117 West B</td>\n    </tr>\n    <tr>\n        <td>SpaceX CRS-9</td>\n    </tr>\n    <tr>\n        <td>JCSAT-16</td>\n    </tr>\n    <tr>\n        <td>SpaceX CRS-13</td>\n    </tr>\n    <tr>\n        <td>Zuma</td>\n    </tr>\n    <tr>\n        <td>GovSat-1 / SES-16</td>\n    </tr>\n    <tr>\n        <td>Hispasat 30W-6  PODSat</td>\n    </tr>\n    <tr>\n        <td>SpaceX CRS-14</td>\n    </tr>\n    <tr>\n        <td>Transiting Exoplanet Survey Satellite (TESS)</td>\n    </tr>\n    <tr>\n        <td>SES-12</td>\n    </tr>\n    <tr>\n        <td>SpaceX CRS-15</td>\n    </tr>\n    <tr>\n        <td>Telstar 19V</td>\n    </tr>\n    <tr>\n        <td>Merah Putih</td>\n    </tr>\n    <tr>\n        <td>Telstar 18V / Apstar-5C</td>\n    </tr>\n    <tr>\n        <td>SpaceX CRS-16</td>\n    </tr>\n    <tr>\n        <td>GPS III-01</td>\n    </tr>\n    <tr>\n        <td>Nusantara Satu, Beresheet Moon lander, S5</td>\n    </tr>\n    <tr>\n        <td>SpaceX CRS-17, Starlink v0.9</td>\n    </tr>\n    <tr>\n        <td>Starlink v0.9, RADARSAT Constellation</td>\n    </tr>\n    <tr>\n        <td>SpaceX CRS-18, AMOS-17 </td>\n    </tr>\n    <tr>\n        <td>AMOS-17, Starlink 1 v1.0 </td>\n    </tr>\n    <tr>\n        <td>Starlink 1 v1.0, SpaceX CRS-19 </td>\n    </tr>\n    <tr>\n        <td>SpaceX CRS-19, JCSat-18 / Kacific 1 </td>\n    </tr>\n    <tr>\n        <td>JCSat-18 / Kacific 1, Starlink 2 v1.0 </td>\n    </tr>\n    <tr>\n        <td>Starlink 2 v1.0, Crew Dragon in-flight abort test </td>\n    </tr>\n    <tr>\n        <td>Starlink 3 v1.0, Starlink 4 v1.0 </td>\n    </tr>\n    <tr>\n        <td>Starlink 4 v1.0, SpaceX CRS-20</td>\n    </tr>\n    <tr>\n        <td>SpaceX CRS-20, Starlink 5 v1.0 </td>\n    </tr>\n    <tr>\n        <td>Starlink 7 v1.0, Starlink 8 v1.0</td>\n    </tr>\n    <tr>\n        <td>Starlink 8 v1.0, SkySats-16, -17, -18, GPS III-03 </td>\n    </tr>\n    <tr>\n        <td>GPS III-03, ANASIS-II</td>\n    </tr>\n    <tr>\n        <td>ANASIS-II, Starlink 9 v1.0</td>\n    </tr>\n    <tr>\n        <td>Starlink 10 v1.0, SkySat-19, -20, -21, SAOCOM 1B </td>\n    </tr>\n    <tr>\n        <td>SAOCOM 1B, GNOMES 1, Tyvak-0172</td>\n    </tr>\n    <tr>\n        <td>Starlink 14 v1.0, GPS III-04  </td>\n    </tr>\n    <tr>\n        <td>GPS III-04 , Crew-1</td>\n    </tr>\n    <tr>\n        <td>Starlink 15 v1.0, SpaceX CRS-21</td>\n    </tr>\n</table>"
                    },
                    "metadata": {}
                }
            ]
        },
        {
            "metadata": {},
            "cell_type": "markdown",
            "source": "### Task 3\n\n##### Display the total payload mass carried by boosters launched by NASA (CRS)\n"
        },
        {
            "metadata": {},
            "cell_type": "code",
            "source": "%%sql\nselect sum(PAYLOAD_MASS__KG_) from Spacex\nwhere Customer like 'NASA (CRS)'",
            "execution_count": 9,
            "outputs": [
                {
                    "output_type": "stream",
                    "text": " * ibm_db_sa://tjt44844:***@815fa4db-dc03-4c70-869a-a9cc13f33084.bs2io90l08kqb1od8lcg.databases.appdomain.cloud:30367/bludb\nDone.\n",
                    "name": "stdout"
                },
                {
                    "output_type": "execute_result",
                    "execution_count": 9,
                    "data": {
                        "text/plain": "[(45596,)]",
                        "text/html": "<table>\n    <tr>\n        <th>1</th>\n    </tr>\n    <tr>\n        <td>45596</td>\n    </tr>\n</table>"
                    },
                    "metadata": {}
                }
            ]
        },
        {
            "metadata": {},
            "cell_type": "markdown",
            "source": "### Task 4\n\n##### Display average payload mass carried by booster version F9 v1.1\n"
        },
        {
            "metadata": {},
            "cell_type": "code",
            "source": "%%sql\nselect avg(PAYLOAD_MASS__KG_) from Spacex\nwhere BOOSTER_Version like 'F9 v1.1'",
            "execution_count": 10,
            "outputs": [
                {
                    "output_type": "stream",
                    "text": " * ibm_db_sa://tjt44844:***@815fa4db-dc03-4c70-869a-a9cc13f33084.bs2io90l08kqb1od8lcg.databases.appdomain.cloud:30367/bludb\nDone.\n",
                    "name": "stdout"
                },
                {
                    "output_type": "execute_result",
                    "execution_count": 10,
                    "data": {
                        "text/plain": "[(2928,)]",
                        "text/html": "<table>\n    <tr>\n        <th>1</th>\n    </tr>\n    <tr>\n        <td>2928</td>\n    </tr>\n</table>"
                    },
                    "metadata": {}
                }
            ]
        },
        {
            "metadata": {},
            "cell_type": "markdown",
            "source": "### Task 5\n\n##### List the date when the first successful landing outcome in ground pad was acheived.\n\n*Hint:Use min function*\n"
        },
        {
            "metadata": {},
            "cell_type": "code",
            "source": "%%sql\nselect min(date) from Spacex\nwhere \"Landing _Outcome\" LIKE 'Success (ground pad)'",
            "execution_count": 18,
            "outputs": [
                {
                    "output_type": "stream",
                    "text": " * ibm_db_sa://tjt44844:***@815fa4db-dc03-4c70-869a-a9cc13f33084.bs2io90l08kqb1od8lcg.databases.appdomain.cloud:30367/bludb\nDone.\n",
                    "name": "stdout"
                },
                {
                    "output_type": "execute_result",
                    "execution_count": 18,
                    "data": {
                        "text/plain": "[(datetime.date(2015, 12, 22),)]",
                        "text/html": "<table>\n    <tr>\n        <th>1</th>\n    </tr>\n    <tr>\n        <td>2015-12-22</td>\n    </tr>\n</table>"
                    },
                    "metadata": {}
                }
            ]
        },
        {
            "metadata": {},
            "cell_type": "markdown",
            "source": "### Task 6\n\n##### List the names of the boosters which have success in drone ship and have payload mass greater than 4000 but less than 6000\n"
        },
        {
            "metadata": {},
            "cell_type": "code",
            "source": "%%sql\nselect Booster_version from Spacex\nwhere mission_outcome LIKE 'Success'\nand 4000 < payload_mass__kg_ < 6000",
            "execution_count": 22,
            "outputs": [
                {
                    "output_type": "stream",
                    "text": " * ibm_db_sa://tjt44844:***@815fa4db-dc03-4c70-869a-a9cc13f33084.bs2io90l08kqb1od8lcg.databases.appdomain.cloud:30367/bludb\nDone.\n",
                    "name": "stdout"
                },
                {
                    "output_type": "execute_result",
                    "execution_count": 22,
                    "data": {
                        "text/plain": "[('F9 v1.0  B0003',),\n ('F9 v1.0  B0004',),\n ('F9 v1.0  B0005',),\n ('F9 v1.0  B0006',),\n ('F9 v1.0  B0007',),\n ('F9 v1.1  B1003',),\n ('F9 v1.1',),\n ('F9 v1.1',),\n ('F9 v1.1',),\n ('F9 v1.1',),\n ('F9 v1.1 B1010',),\n ('F9 v1.1 B1012',),\n ('F9 v1.1 B1013',),\n ('F9 v1.1 B1015',),\n ('F9 FT B1019',),\n ('F9 v1.1 B1017',),\n ('F9 FT B1021.1',),\n ('F9 FT B1023.1',),\n ('F9 FT B1024',),\n ('F9 FT B1025.1',),\n ('F9 FT B1031.1',),\n ('F9 FT B1035.1',),\n ('F9 FT  B1029.2',),\n ('F9 B4 B1039.1',),\n ('F9 FT B1038.1',),\n ('F9 B4 B1042.1',),\n ('F9 FT  B1035.2',),\n ('F9 FT  B1038.2',),\n ('F9 B4  B1039.2',),\n ('F9 B4 B1045.1',),\n ('F9 B5  B1046.1',),\n ('F9 B4 B1045.2',),\n ('F9 B5 B1048.2',),\n ('F9 B5 B1046.3',),\n ('F9 B5B1050',),\n ('F9 B5B1056.1',),\n ('F9 B5 B1056.2',),\n ('F9 B5B1059.1',),\n ('F9 B5 B1059.2',),\n ('F9 B5 B1059.4',),\n ('F9 B5B1063.1',),\n ('F9 B5 B1058.4',)]",
                        "text/html": "<table>\n    <tr>\n        <th>booster_version</th>\n    </tr>\n    <tr>\n        <td>F9 v1.0  B0003</td>\n    </tr>\n    <tr>\n        <td>F9 v1.0  B0004</td>\n    </tr>\n    <tr>\n        <td>F9 v1.0  B0005</td>\n    </tr>\n    <tr>\n        <td>F9 v1.0  B0006</td>\n    </tr>\n    <tr>\n        <td>F9 v1.0  B0007</td>\n    </tr>\n    <tr>\n        <td>F9 v1.1  B1003</td>\n    </tr>\n    <tr>\n        <td>F9 v1.1</td>\n    </tr>\n    <tr>\n        <td>F9 v1.1</td>\n    </tr>\n    <tr>\n        <td>F9 v1.1</td>\n    </tr>\n    <tr>\n        <td>F9 v1.1</td>\n    </tr>\n    <tr>\n        <td>F9 v1.1 B1010</td>\n    </tr>\n    <tr>\n        <td>F9 v1.1 B1012</td>\n    </tr>\n    <tr>\n        <td>F9 v1.1 B1013</td>\n    </tr>\n    <tr>\n        <td>F9 v1.1 B1015</td>\n    </tr>\n    <tr>\n        <td>F9 FT B1019</td>\n    </tr>\n    <tr>\n        <td>F9 v1.1 B1017</td>\n    </tr>\n    <tr>\n        <td>F9 FT B1021.1</td>\n    </tr>\n    <tr>\n        <td>F9 FT B1023.1</td>\n    </tr>\n    <tr>\n        <td>F9 FT B1024</td>\n    </tr>\n    <tr>\n        <td>F9 FT B1025.1</td>\n    </tr>\n    <tr>\n        <td>F9 FT B1031.1</td>\n    </tr>\n    <tr>\n        <td>F9 FT B1035.1</td>\n    </tr>\n    <tr>\n        <td>F9 FT  B1029.2</td>\n    </tr>\n    <tr>\n        <td>F9 B4 B1039.1</td>\n    </tr>\n    <tr>\n        <td>F9 FT B1038.1</td>\n    </tr>\n    <tr>\n        <td>F9 B4 B1042.1</td>\n    </tr>\n    <tr>\n        <td>F9 FT  B1035.2</td>\n    </tr>\n    <tr>\n        <td>F9 FT  B1038.2</td>\n    </tr>\n    <tr>\n        <td>F9 B4  B1039.2</td>\n    </tr>\n    <tr>\n        <td>F9 B4 B1045.1</td>\n    </tr>\n    <tr>\n        <td>F9 B5  B1046.1</td>\n    </tr>\n    <tr>\n        <td>F9 B4 B1045.2</td>\n    </tr>\n    <tr>\n        <td>F9 B5 B1048.2</td>\n    </tr>\n    <tr>\n        <td>F9 B5 B1046.3</td>\n    </tr>\n    <tr>\n        <td>F9 B5B1050</td>\n    </tr>\n    <tr>\n        <td>F9 B5B1056.1</td>\n    </tr>\n    <tr>\n        <td>F9 B5 B1056.2</td>\n    </tr>\n    <tr>\n        <td>F9 B5B1059.1</td>\n    </tr>\n    <tr>\n        <td>F9 B5 B1059.2</td>\n    </tr>\n    <tr>\n        <td>F9 B5 B1059.4</td>\n    </tr>\n    <tr>\n        <td>F9 B5B1063.1</td>\n    </tr>\n    <tr>\n        <td>F9 B5 B1058.4</td>\n    </tr>\n</table>"
                    },
                    "metadata": {}
                }
            ]
        },
        {
            "metadata": {},
            "cell_type": "markdown",
            "source": "### Task 7\n\n##### List the total number of successful and failure mission outcomes\n"
        },
        {
            "metadata": {},
            "cell_type": "code",
            "source": "%%sql\nselect count(mission_outcome) from Spacex",
            "execution_count": 23,
            "outputs": [
                {
                    "output_type": "stream",
                    "text": " * ibm_db_sa://tjt44844:***@815fa4db-dc03-4c70-869a-a9cc13f33084.bs2io90l08kqb1od8lcg.databases.appdomain.cloud:30367/bludb\nDone.\n",
                    "name": "stdout"
                },
                {
                    "output_type": "execute_result",
                    "execution_count": 23,
                    "data": {
                        "text/plain": "[(101,)]",
                        "text/html": "<table>\n    <tr>\n        <th>1</th>\n    </tr>\n    <tr>\n        <td>101</td>\n    </tr>\n</table>"
                    },
                    "metadata": {}
                }
            ]
        },
        {
            "metadata": {},
            "cell_type": "markdown",
            "source": "### Task 8\n\n##### List the   names of the booster_versions which have carried the maximum payload mass. Use a subquery\n"
        },
        {
            "metadata": {},
            "cell_type": "code",
            "source": "%%sql\nselect max(payload_mass__kg_) from spacex",
            "execution_count": 25,
            "outputs": [
                {
                    "output_type": "stream",
                    "text": " * ibm_db_sa://tjt44844:***@815fa4db-dc03-4c70-869a-a9cc13f33084.bs2io90l08kqb1od8lcg.databases.appdomain.cloud:30367/bludb\nDone.\n",
                    "name": "stdout"
                },
                {
                    "output_type": "execute_result",
                    "execution_count": 25,
                    "data": {
                        "text/plain": "[(15600,)]",
                        "text/html": "<table>\n    <tr>\n        <th>1</th>\n    </tr>\n    <tr>\n        <td>15600</td>\n    </tr>\n</table>"
                    },
                    "metadata": {}
                }
            ]
        },
        {
            "metadata": {},
            "cell_type": "code",
            "source": "%%sql\nselect booster_version from spacex\nwhere payload_mass__kg_= '15600'",
            "execution_count": 26,
            "outputs": [
                {
                    "output_type": "stream",
                    "text": " * ibm_db_sa://tjt44844:***@815fa4db-dc03-4c70-869a-a9cc13f33084.bs2io90l08kqb1od8lcg.databases.appdomain.cloud:30367/bludb\nDone.\n",
                    "name": "stdout"
                },
                {
                    "output_type": "execute_result",
                    "execution_count": 26,
                    "data": {
                        "text/plain": "[('F9 B5 B1048.4',),\n ('F9 B5 B1049.4',),\n ('F9 B5 B1051.3',),\n ('F9 B5 B1056.4',),\n ('F9 B5 B1048.5',),\n ('F9 B5 B1051.4',),\n ('F9 B5 B1049.5',),\n ('F9 B5 B1060.2',),\n ('F9 B5 B1058.3',),\n ('F9 B5 B1051.6',),\n ('F9 B5 B1060.3',),\n ('F9 B5 B1049.7',)]",
                        "text/html": "<table>\n    <tr>\n        <th>booster_version</th>\n    </tr>\n    <tr>\n        <td>F9 B5 B1048.4</td>\n    </tr>\n    <tr>\n        <td>F9 B5 B1049.4</td>\n    </tr>\n    <tr>\n        <td>F9 B5 B1051.3</td>\n    </tr>\n    <tr>\n        <td>F9 B5 B1056.4</td>\n    </tr>\n    <tr>\n        <td>F9 B5 B1048.5</td>\n    </tr>\n    <tr>\n        <td>F9 B5 B1051.4</td>\n    </tr>\n    <tr>\n        <td>F9 B5 B1049.5</td>\n    </tr>\n    <tr>\n        <td>F9 B5 B1060.2</td>\n    </tr>\n    <tr>\n        <td>F9 B5 B1058.3</td>\n    </tr>\n    <tr>\n        <td>F9 B5 B1051.6</td>\n    </tr>\n    <tr>\n        <td>F9 B5 B1060.3</td>\n    </tr>\n    <tr>\n        <td>F9 B5 B1049.7</td>\n    </tr>\n</table>"
                    },
                    "metadata": {}
                }
            ]
        },
        {
            "metadata": {},
            "cell_type": "markdown",
            "source": "### Task 9\n\n##### List the failed landing_outcomes in drone ship, their booster versions, and launch site names for in year 2015\n"
        },
        {
            "metadata": {},
            "cell_type": "code",
            "source": "%%sql\nselect date, booster_version, launch_site from spacex\nwhere date like '2015%' and \"Landing _Outcome\" LIKE 'Fail%%'",
            "execution_count": 27,
            "outputs": [
                {
                    "output_type": "stream",
                    "text": " * ibm_db_sa://tjt44844:***@815fa4db-dc03-4c70-869a-a9cc13f33084.bs2io90l08kqb1od8lcg.databases.appdomain.cloud:30367/bludb\nDone.\n",
                    "name": "stdout"
                },
                {
                    "output_type": "execute_result",
                    "execution_count": 27,
                    "data": {
                        "text/plain": "[(datetime.date(2015, 1, 10), 'F9 v1.1 B1012', 'CCAFS LC-40'),\n (datetime.date(2015, 4, 14), 'F9 v1.1 B1015', 'CCAFS LC-40')]",
                        "text/html": "<table>\n    <tr>\n        <th>DATE</th>\n        <th>booster_version</th>\n        <th>launch_site</th>\n    </tr>\n    <tr>\n        <td>2015-01-10</td>\n        <td>F9 v1.1 B1012</td>\n        <td>CCAFS LC-40</td>\n    </tr>\n    <tr>\n        <td>2015-04-14</td>\n        <td>F9 v1.1 B1015</td>\n        <td>CCAFS LC-40</td>\n    </tr>\n</table>"
                    },
                    "metadata": {}
                }
            ]
        },
        {
            "metadata": {},
            "cell_type": "markdown",
            "source": "### Task 10\n\n##### Rank the count of landing outcomes (such as Failure (drone ship) or Success (ground pad)) between the date 2010-06-04 and 2017-03-20, in descending order\n"
        },
        {
            "metadata": {},
            "cell_type": "code",
            "source": "%%sql\nselect \"Landing _Outcome\" from spacex\nwhere DATE between '2010-06-04'and'2017-03-20'\ngroup by \"Landing _Outcome\"\norder by count(\"Landing _Outcome\") desc",
            "execution_count": 28,
            "outputs": [
                {
                    "output_type": "stream",
                    "text": " * ibm_db_sa://tjt44844:***@815fa4db-dc03-4c70-869a-a9cc13f33084.bs2io90l08kqb1od8lcg.databases.appdomain.cloud:30367/bludb\nDone.\n",
                    "name": "stdout"
                },
                {
                    "output_type": "execute_result",
                    "execution_count": 28,
                    "data": {
                        "text/plain": "[('No attempt',),\n ('Failure (drone ship)',),\n ('Success (drone ship)',),\n ('Controlled (ocean)',),\n ('Success (ground pad)',),\n ('Failure (parachute)',),\n ('Uncontrolled (ocean)',),\n ('Precluded (drone ship)',)]",
                        "text/html": "<table>\n    <tr>\n        <th>Landing _Outcome</th>\n    </tr>\n    <tr>\n        <td>No attempt</td>\n    </tr>\n    <tr>\n        <td>Failure (drone ship)</td>\n    </tr>\n    <tr>\n        <td>Success (drone ship)</td>\n    </tr>\n    <tr>\n        <td>Controlled (ocean)</td>\n    </tr>\n    <tr>\n        <td>Success (ground pad)</td>\n    </tr>\n    <tr>\n        <td>Failure (parachute)</td>\n    </tr>\n    <tr>\n        <td>Uncontrolled (ocean)</td>\n    </tr>\n    <tr>\n        <td>Precluded (drone ship)</td>\n    </tr>\n</table>"
                    },
                    "metadata": {}
                }
            ]
        },
        {
            "metadata": {},
            "cell_type": "markdown",
            "source": "### Reference Links\n\n*   <a href =\"https://cf-courses-data.s3.us.cloud-object-storage.appdomain.cloud/IBMDeveloperSkillsNetwork-DB0201EN-SkillsNetwork/labs/Labs_Coursera_V5/labs/Lab%20-%20String%20Patterns%20-%20Sorting%20-%20Grouping/instructional-labs.md.html?utm_medium=Exinfluencer&utm_source=Exinfluencer&utm_content=000026UJ&utm_term=10006555&utm_id=NA-SkillsNetwork-Channel-SkillsNetworkCoursesIBMDS0321ENSkillsNetwork26802033-2021-01-01&origin=www.coursera.org\">Hands-on Lab : String Patterns, Sorting and Grouping</a>\n\n*   <a  href=\"https://cf-courses-data.s3.us.cloud-object-storage.appdomain.cloud/IBMDeveloperSkillsNetwork-DB0201EN-SkillsNetwork/labs/Labs_Coursera_V5/labs/Lab%20-%20Built-in%20functions%20/Hands-on_Lab__Built-in_Functions.md.html?utm_medium=Exinfluencer&utm_source=Exinfluencer&utm_content=000026UJ&utm_term=10006555&utm_id=NA-SkillsNetwork-Channel-SkillsNetworkCoursesIBMDS0321ENSkillsNetwork26802033-2021-01-01&origin=www.coursera.org\">Hands-on Lab: Built-in functions</a>\n\n*   <a  href=\"https://cf-courses-data.s3.us.cloud-object-storage.appdomain.cloud/IBMDeveloperSkillsNetwork-DB0201EN-SkillsNetwork/labs/Labs_Coursera_V5/labs/Lab%20-%20Sub-queries%20and%20Nested%20SELECTs%20/instructional-labs.md.html?utm_medium=Exinfluencer&utm_source=Exinfluencer&utm_content=000026UJ&utm_term=10006555&utm_id=NA-SkillsNetwork-Channel-SkillsNetworkCoursesIBMDS0321ENSkillsNetwork26802033-2021-01-01&origin=www.coursera.org\">Hands-on Lab : Sub-queries and Nested SELECT Statements</a>\n\n*   <a href=\"https://cf-courses-data.s3.us.cloud-object-storage.appdomain.cloud/IBMDeveloperSkillsNetwork-DB0201EN-SkillsNetwork/labs/Module%205/DB0201EN-Week3-1-3-SQLmagic.ipynb?utm_medium=Exinfluencer&utm_source=Exinfluencer&utm_content=000026UJ&utm_term=10006555&utm_id=NA-SkillsNetwork-Channel-SkillsNetworkCoursesIBMDS0321ENSkillsNetwork26802033-2021-01-01\">Hands-on Tutorial: Accessing Databases with SQL magic</a>\n\n*   <a href= \"https://cf-courses-data.s3.us.cloud-object-storage.appdomain.cloud/IBMDeveloperSkillsNetwork-DB0201EN-SkillsNetwork/labs/Module%205/DB0201EN-Week3-1-4-Analyzing.ipynb?utm_medium=Exinfluencer&utm_source=Exinfluencer&utm_content=000026UJ&utm_term=10006555&utm_id=NA-SkillsNetwork-Channel-SkillsNetworkCoursesIBMDS0321ENSkillsNetwork26802033-2021-01-01\">Hands-on Lab: Analyzing a real World Data Set</a>\n"
        },
        {
            "metadata": {},
            "cell_type": "markdown",
            "source": "## Author(s)\n\n<h4> Lakshmi Holla </h4>\n"
        },
        {
            "metadata": {},
            "cell_type": "markdown",
            "source": "## Other Contributors\n\n<h4> Rav Ahuja </h4>\n"
        },
        {
            "metadata": {},
            "cell_type": "markdown",
            "source": "## Change log\n\n| Date       | Version | Changed by    | Change Description        |\n| ---------- | ------- | ------------- | ------------------------- |\n| 2021-10-12 | 0.4     | Lakshmi Holla | Changed markdown          |\n| 2021-08-24 | 0.3     | Lakshmi Holla | Added library update      |\n| 2021-07-09 | 0.2     | Lakshmi Holla | Changes made in magic sql |\n| 2021-05-20 | 0.1     | Lakshmi Holla | Created Initial Version   |\n"
        },
        {
            "metadata": {},
            "cell_type": "markdown",
            "source": "## <h3 align=\"center\"> \u00a9 IBM Corporation 2021. All rights reserved. <h3/>\n"
        }
    ],
    "metadata": {
        "kernelspec": {
            "name": "python3",
            "display_name": "Python 3.9",
            "language": "python"
        },
        "language_info": {
            "name": "python",
            "version": "3.9.7",
            "mimetype": "text/x-python",
            "codemirror_mode": {
                "name": "ipython",
                "version": 3
            },
            "pygments_lexer": "ipython3",
            "nbconvert_exporter": "python",
            "file_extension": ".py"
        }
    },
    "nbformat": 4,
    "nbformat_minor": 4
}